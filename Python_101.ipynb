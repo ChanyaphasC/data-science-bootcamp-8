{
  "nbformat": 4,
  "nbformat_minor": 0,
  "metadata": {
    "colab": {
      "provenance": [],
      "collapsed_sections": [
        "1dCp1-ErPguk"
      ],
      "toc_visible": true,
      "authorship_tag": "ABX9TyMtbhWXJCJhwHL5HM4Wwkzi",
      "include_colab_link": true
    },
    "kernelspec": {
      "name": "python3",
      "display_name": "Python 3"
    },
    "language_info": {
      "name": "python"
    }
  },
  "cells": [
    {
      "cell_type": "markdown",
      "metadata": {
        "id": "view-in-github",
        "colab_type": "text"
      },
      "source": [
        "<a href=\"https://colab.research.google.com/github/ChanyaphasC/data-science-bootcamp-8/blob/main/Python_101.ipynb\" target=\"_parent\"><img src=\"https://colab.research.google.com/assets/colab-badge.svg\" alt=\"Open In Colab\"/></a>"
      ]
    },
    {
      "cell_type": "markdown",
      "source": [
        "# **Python Programming 101**\n",
        "\n",
        "- variables\n",
        "- data types\n",
        "- data structures\n",
        "- function\n",
        "- control flow"
      ],
      "metadata": {
        "id": "1dCp1-ErPguk"
      }
    },
    {
      "cell_type": "code",
      "execution_count": null,
      "metadata": {
        "colab": {
          "base_uri": "https://localhost:8080/"
        },
        "id": "L3gJgZVxPKTJ",
        "outputId": "58209516-9261-4da6-b1e9-37c899cd1f4c"
      },
      "outputs": [
        {
          "output_type": "stream",
          "name": "stdout",
          "text": [
            "Hello World!\n"
          ]
        }
      ],
      "source": [
        "print(\"Hello World!\")"
      ]
    },
    {
      "cell_type": "code",
      "source": [
        "## basic expression / calculation\n",
        "print(1+1)\n",
        "print(5-2)\n",
        "print(2*2)\n",
        "print(10//3)  # ปัดทศนิยมลง\n",
        "print(round(1.5)) # ปัดทศนิยมขึ้น\n",
        "\n",
        "## power exponant\n",
        "print(pow(5,2))\n",
        "print(abs(-5))"
      ],
      "metadata": {
        "id": "h4ACOEGXPbre"
      },
      "execution_count": null,
      "outputs": []
    },
    {
      "cell_type": "code",
      "source": [
        "## compare value\n",
        "1+1 == 2\n",
        "1+1 != 2\n",
        "5<2\n",
        "(1+5)*2/3"
      ],
      "metadata": {
        "colab": {
          "base_uri": "https://localhost:8080/"
        },
        "id": "I5NBLsq3Q6iu",
        "outputId": "54db32af-29f6-41a6-f2fa-ad73763e7813"
      },
      "execution_count": null,
      "outputs": [
        {
          "output_type": "execute_result",
          "data": {
            "text/plain": [
              "4.0"
            ]
          },
          "metadata": {},
          "execution_count": 21
        }
      ]
    },
    {
      "cell_type": "code",
      "source": [
        "## python = AI software + API + ML, R = statistics\n",
        "\n",
        "my_name = \"Nina\"\n",
        "income = 50000\n",
        "expense = 36000\n",
        "saving = income - expense\n",
        "print(saving)\n",
        "print(my_name, saving)"
      ],
      "metadata": {
        "colab": {
          "base_uri": "https://localhost:8080/"
        },
        "id": "QT8ysXe4R1Uz",
        "outputId": "f40484ef-f7ee-4e3c-f325-75d657f8e677"
      },
      "execution_count": null,
      "outputs": [
        {
          "output_type": "stream",
          "name": "stdout",
          "text": [
            "14000\n",
            "Nina 14000\n"
          ]
        }
      ]
    },
    {
      "cell_type": "code",
      "source": [
        "## delete variable\n",
        "del saving"
      ],
      "metadata": {
        "id": "4dQJ--eoTS6U"
      },
      "execution_count": null,
      "outputs": []
    },
    {
      "cell_type": "code",
      "source": [
        "## print string\n",
        "my_name = \"Nina\"\n",
        "age = 21\n",
        "fav_lang = \"R\"\n",
        "\n",
        "## fstring ; string template\n",
        "f\"Hi my name is {my_name} and I'm {age} years old my favorite language is {fav_lang}.\""
      ],
      "metadata": {
        "colab": {
          "base_uri": "https://localhost:8080/",
          "height": 36
        },
        "id": "44A3kE5BTwbV",
        "outputId": "11649ec6-f32c-464a-ebd6-2bcf6a420913"
      },
      "execution_count": null,
      "outputs": [
        {
          "output_type": "execute_result",
          "data": {
            "text/plain": [
              "\"Hi my name is Nina and I'm 21 years old my favorite language is R.\""
            ],
            "application/vnd.google.colaboratory.intrinsic+json": {
              "type": "string"
            }
          },
          "metadata": {},
          "execution_count": 32
        }
      ]
    },
    {
      "cell_type": "code",
      "source": [
        "## traditional way to create template\n",
        "my_name = \"Nina\"\n",
        "\"Hi my name is {}\".format(my_name)"
      ],
      "metadata": {
        "colab": {
          "base_uri": "https://localhost:8080/",
          "height": 36
        },
        "id": "tq4i9GO-Ucqd",
        "outputId": "d93044a1-9f68-4087-fd1b-7d0176850150"
      },
      "execution_count": null,
      "outputs": [
        {
          "output_type": "execute_result",
          "data": {
            "text/plain": [
              "'Hi my name is Nina'"
            ],
            "application/vnd.google.colaboratory.intrinsic+json": {
              "type": "string"
            }
          },
          "metadata": {},
          "execution_count": 34
        }
      ]
    },
    {
      "cell_type": "code",
      "source": [
        "## string + string\n",
        "## string * 3\n",
        "text = \"blackpink\" + \" in your area!\"\n",
        "print(text, len(text))\n"
      ],
      "metadata": {
        "colab": {
          "base_uri": "https://localhost:8080/"
        },
        "id": "vtw61-jUU-eu",
        "outputId": "e06347c0-a0d8-401e-afdb-5fcdab6f4fec"
      },
      "execution_count": null,
      "outputs": [
        {
          "output_type": "stream",
          "name": "stdout",
          "text": [
            "blackpink in your area! 23\n"
          ]
        }
      ]
    },
    {
      "cell_type": "code",
      "source": [
        "## data types\n",
        "## 1. int : 5\n",
        "## 2. float : 8.23\n",
        "## 3. str : \"Hello\", 'Hello'\n",
        "## 4. bool : True False"
      ],
      "metadata": {
        "id": "Mby0JohHVSFU"
      },
      "execution_count": null,
      "outputs": []
    },
    {
      "cell_type": "code",
      "source": [
        "x = \"I\\\"M learning Python!\" # escape variable\n",
        "print(x, type(x))"
      ],
      "metadata": {
        "colab": {
          "base_uri": "https://localhost:8080/"
        },
        "id": "7Z_Jsst8WUzD",
        "outputId": "1e70c0b8-88cb-43d9-8ced-92f16728dab1"
      },
      "execution_count": null,
      "outputs": [
        {
          "output_type": "stream",
          "name": "stdout",
          "text": [
            "I\"M learning Python! <class 'str'>\n"
          ]
        }
      ]
    },
    {
      "cell_type": "code",
      "source": [
        "# newline (\\n), tab (\\t) character\n",
        "print(\"Hello\\nWorld\")\n",
        "print(\"Hello\\tWorld\")"
      ],
      "metadata": {
        "colab": {
          "base_uri": "https://localhost:8080/"
        },
        "id": "0EzHU9emeWoy",
        "outputId": "9ce384da-c6b5-43ce-b39f-87061598eaa1"
      },
      "execution_count": null,
      "outputs": [
        {
          "output_type": "stream",
          "name": "stdout",
          "text": [
            "Hello\n",
            "World\n",
            "Hello\tWorld\n"
          ]
        }
      ]
    },
    {
      "cell_type": "code",
      "source": [
        "poem = \"\"\"hello world\n",
        "I'm learning python\n",
        "and it's similar to R\"\"\"\n",
        "\n",
        "print(poem)"
      ],
      "metadata": {
        "colab": {
          "base_uri": "https://localhost:8080/"
        },
        "id": "F--0YSSgewBl",
        "outputId": "48617690-a4a6-41d4-fca9-fe280c21b33e"
      },
      "execution_count": null,
      "outputs": [
        {
          "output_type": "stream",
          "name": "stdout",
          "text": [
            "hello world\n",
            "I'm learning python\n",
            "and it's similar to R\n"
          ]
        }
      ]
    },
    {
      "cell_type": "code",
      "source": [
        "## convert datatype (int(), float(), str(), bool())\n",
        "x = 1\n",
        "print(x, type(x))\n",
        "\n",
        "x = str(x)\n",
        "print(x, type(x))\n",
        "\n",
        "print(int(True))\n",
        "\n",
        "print(bool(100))  # positive > 0 == True"
      ],
      "metadata": {
        "colab": {
          "base_uri": "https://localhost:8080/"
        },
        "id": "rg2ox7-pfB2J",
        "outputId": "e8264e22-8829-4611-9ba0-013d6ca6ce12"
      },
      "execution_count": null,
      "outputs": [
        {
          "output_type": "stream",
          "name": "stdout",
          "text": [
            "1 <class 'int'>\n",
            "1 <class 'str'>\n",
            "1\n",
            "True\n"
          ]
        }
      ]
    },
    {
      "cell_type": "code",
      "source": [
        "## get input from user\n",
        "\n",
        "user_name = input(\"what's your username: \")\n",
        "print(\"Hi! \" + user_name)\n",
        "\n",
        "user_age = input(\"How old are you? \")\n",
        "print(\"Your age: \" + user_age)\n",
        "print(int(user_age) * 2)   # convert str to int\n"
      ],
      "metadata": {
        "colab": {
          "base_uri": "https://localhost:8080/"
        },
        "id": "zz98fZXjoDNY",
        "outputId": "a521e530-27d3-4978-b9dd-2070a65a3004"
      },
      "execution_count": null,
      "outputs": [
        {
          "output_type": "stream",
          "name": "stdout",
          "text": [
            "what's your username: nina\n",
            "Hi! nina\n",
            "How old are you? 21\n",
            "Your age: 21\n",
            "42\n"
          ]
        }
      ]
    },
    {
      "cell_type": "code",
      "source": [
        "## type hint\n",
        "age: int = 20\n",
        "print(age, type(age))\n",
        "\n",
        "gpa: float = 3.5\n",
        "print(gpa, type(gpa))\n",
        "\n",
        "university: str = \"chiangmai\"\n",
        "print(university, type(university))\n"
      ],
      "metadata": {
        "colab": {
          "base_uri": "https://localhost:8080/"
        },
        "id": "S3WSNT53pnBQ",
        "outputId": "6ae96ea4-284a-49f0-d8f4-428bf5f898d1"
      },
      "execution_count": null,
      "outputs": [
        {
          "output_type": "stream",
          "name": "stdout",
          "text": [
            "20 <class 'int'>\n",
            "3.5 <class 'float'>\n",
            "chiangmai <class 'str'>\n"
          ]
        }
      ]
    },
    {
      "cell_type": "code",
      "source": [
        "## define a new function\n",
        "\n",
        "def  add_two_num(val1, val2):\n",
        "    return val1 + val2\n",
        "\n",
        "result = add_two_num(5, 10)\n",
        "print(result)"
      ],
      "metadata": {
        "colab": {
          "base_uri": "https://localhost:8080/"
        },
        "id": "l_9gV6zHqVH1",
        "outputId": "1a474b1c-f612-495f-8ec1-6b8675eb9ccc"
      },
      "execution_count": null,
      "outputs": [
        {
          "output_type": "stream",
          "name": "stdout",
          "text": [
            "15\n"
          ]
        }
      ]
    },
    {
      "cell_type": "code",
      "source": [
        "## default argument\n",
        "def greeting(name = \"Nina\", food =\"KFC\"):\n",
        " #   return(\"Hello! \" + name)\n",
        "    return f\"Hello! {name}. Do you like {food} ?\"\n",
        "\n",
        "greeting(\"eiei\")  # call function\n",
        "greeting()"
      ],
      "metadata": {
        "colab": {
          "base_uri": "https://localhost:8080/",
          "height": 36
        },
        "id": "HhkSxTNOrTyc",
        "outputId": "48949411-e93a-455f-e93e-edc3ebbf1db3"
      },
      "execution_count": null,
      "outputs": [
        {
          "output_type": "execute_result",
          "data": {
            "text/plain": [
              "'Hello! Nina. Do you like KFC ?'"
            ],
            "application/vnd.google.colaboratory.intrinsic+json": {
              "type": "string"
            }
          },
          "metadata": {},
          "execution_count": 78
        }
      ]
    },
    {
      "cell_type": "code",
      "source": [
        "## get input from user\n",
        "def greeting_v2():\n",
        "    name = input(\"What's your name? \")\n",
        "    return f\"Hello {name} !\"\n",
        "\n",
        "greeting_v2()"
      ],
      "metadata": {
        "colab": {
          "base_uri": "https://localhost:8080/",
          "height": 53
        },
        "id": "K2tpj_Pnrdwo",
        "outputId": "e958e600-0606-4846-8971-a24851e2080d"
      },
      "execution_count": null,
      "outputs": [
        {
          "name": "stdout",
          "output_type": "stream",
          "text": [
            "What's your name? nina\n"
          ]
        },
        {
          "output_type": "execute_result",
          "data": {
            "text/plain": [
              "'Hello nina !'"
            ],
            "application/vnd.google.colaboratory.intrinsic+json": {
              "type": "string"
            }
          },
          "metadata": {},
          "execution_count": 81
        }
      ]
    },
    {
      "cell_type": "code",
      "source": [
        "## function that return multiple values\n",
        "def demo():\n",
        "    name1 = input(\"Pick a name: \")\n",
        "    name2 = input(\"Pick a name: \")\n",
        "    return (name1, name2, 100)         # tuple"
      ],
      "metadata": {
        "id": "VgFlFJ-9u0dK"
      },
      "execution_count": null,
      "outputs": []
    },
    {
      "cell_type": "code",
      "source": [
        "# tuple unpacking\n",
        "friend1, friend2, _ = demo()"
      ],
      "metadata": {
        "colab": {
          "base_uri": "https://localhost:8080/"
        },
        "id": "cKFIsmKevc4O",
        "outputId": "c19cd1dd-6379-4b9d-d7ef-c2b9d4e87bdf"
      },
      "execution_count": null,
      "outputs": [
        {
          "name": "stdout",
          "output_type": "stream",
          "text": [
            "Pick a name: lisa\n",
            "Pick a name: nina\n"
          ]
        }
      ]
    },
    {
      "cell_type": "code",
      "source": [
        "## 4. data structures\n",
        "## 4.1 list\n",
        "## 4.2 tuple\n",
        "## 4.3 dictionary\n",
        "## 4.4 set"
      ],
      "metadata": {
        "id": "DF8SnSwGv4kk"
      },
      "execution_count": null,
      "outputs": []
    },
    {
      "cell_type": "code",
      "source": [
        "## 4.1 list[]\n",
        "shopping_list = [\"banana\", \"egg\", \"bread\"]\n",
        "shopping_list"
      ],
      "metadata": {
        "colab": {
          "base_uri": "https://localhost:8080/"
        },
        "id": "x3zfy5YWwKTH",
        "outputId": "6b872ab7-6001-42b6-d6e0-62b32b81fcc7"
      },
      "execution_count": null,
      "outputs": [
        {
          "output_type": "execute_result",
          "data": {
            "text/plain": [
              "['banana', 'egg', 'bread']"
            ]
          },
          "metadata": {},
          "execution_count": 143
        }
      ]
    },
    {
      "cell_type": "code",
      "source": [
        "# method list.append\n",
        "shopping_list.append(\"noodle\")\n",
        "shopping_list.append(\"orange\")\n",
        "shopping_list.insert(0, \"grapde\")\n",
        "print(shopping_list)"
      ],
      "metadata": {
        "colab": {
          "base_uri": "https://localhost:8080/"
        },
        "id": "lvrsYxMLwkEn",
        "outputId": "034847e0-4a02-4905-af7a-32dd2202fd7c"
      },
      "execution_count": null,
      "outputs": [
        {
          "output_type": "stream",
          "name": "stdout",
          "text": [
            "['grapde', 'banana', 'egg', 'bread', 'noodle', 'orange']\n"
          ]
        }
      ]
    },
    {
      "cell_type": "code",
      "source": [
        "# update value if we know the index\n",
        "shopping_list[0] = \"grape\"\n",
        "shopping_list"
      ],
      "metadata": {
        "colab": {
          "base_uri": "https://localhost:8080/"
        },
        "id": "WzvY7mos0j-9",
        "outputId": "7b6ed90a-e0cd-4310-9398-da5b3d9ae269"
      },
      "execution_count": null,
      "outputs": [
        {
          "output_type": "execute_result",
          "data": {
            "text/plain": [
              "['grape', 'banana', 'egg', 'bread', 'noodle', 'orange']"
            ]
          },
          "metadata": {},
          "execution_count": 145
        }
      ]
    },
    {
      "cell_type": "code",
      "source": [
        "# insert\n",
        "shopping_list.insert(2, \"milk\")\n",
        "\n",
        "print(shopping_list, \"\\ncount shopping list \" ,len(shopping_list))"
      ],
      "metadata": {
        "colab": {
          "base_uri": "https://localhost:8080/"
        },
        "id": "iC4LuMOR2g1W",
        "outputId": "5bc1f708-8e53-44ab-cb92-1ed06a748ace"
      },
      "execution_count": null,
      "outputs": [
        {
          "output_type": "stream",
          "name": "stdout",
          "text": [
            "['grape', 'banana', 'milk', 'egg', 'bread', 'noodle', 'orange'] \n",
            "count shopping list  7\n"
          ]
        }
      ]
    },
    {
      "cell_type": "code",
      "source": [
        "## function vs. method\n",
        "## OOp Object Oriented Programming\n",
        "\n",
        "shopping_list.pop() # remove the last element"
      ],
      "metadata": {
        "colab": {
          "base_uri": "https://localhost:8080/",
          "height": 36
        },
        "id": "mghTKGYB08wk",
        "outputId": "c5871dc1-1bab-4bd0-afb9-a95afa03a365"
      },
      "execution_count": null,
      "outputs": [
        {
          "output_type": "execute_result",
          "data": {
            "text/plain": [
              "'orange'"
            ],
            "application/vnd.google.colaboratory.intrinsic+json": {
              "type": "string"
            }
          },
          "metadata": {},
          "execution_count": 126
        }
      ]
    },
    {
      "cell_type": "code",
      "source": [
        "# remove specific item\n",
        "shopping_list.remove(\"banana\")"
      ],
      "metadata": {
        "id": "Bpts5zSV23xX"
      },
      "execution_count": null,
      "outputs": []
    },
    {
      "cell_type": "code",
      "source": [
        "# pop\n",
        "shopping_list.pop(1)\n",
        "shopping_list"
      ],
      "metadata": {
        "colab": {
          "base_uri": "https://localhost:8080/"
        },
        "id": "hhBrKN_73LAU",
        "outputId": "bbbc46fa-798f-4402-dc36-35ea2579e6c5"
      },
      "execution_count": null,
      "outputs": [
        {
          "output_type": "execute_result",
          "data": {
            "text/plain": [
              "['grapde', 'egg', 'bread', 'noodle']"
            ]
          },
          "metadata": {},
          "execution_count": 130
        }
      ]
    },
    {
      "cell_type": "code",
      "source": [
        "# add two lists together\n",
        "item1 = [\"banana\", \"grape\", \"orange\"]\n",
        "item2 = [\"milk\", \"bread\"]\n",
        "\n",
        "full_list = item1 + item2\n",
        "print(full_list, len(full_list))"
      ],
      "metadata": {
        "colab": {
          "base_uri": "https://localhost:8080/"
        },
        "id": "Yjsq0SgQ3aSV",
        "outputId": "f735a546-7d56-49da-ee45-dc5ea45cd719"
      },
      "execution_count": null,
      "outputs": [
        {
          "output_type": "stream",
          "name": "stdout",
          "text": [
            "['banana', 'grape', 'orange', 'milk', 'bread'] 5\n"
          ]
        }
      ]
    },
    {
      "cell_type": "code",
      "source": [
        "# sort data\n",
        "full_list.sort()\n",
        "full_list.sort(reverse = True)\n",
        "full_list"
      ],
      "metadata": {
        "colab": {
          "base_uri": "https://localhost:8080/"
        },
        "id": "cLs28mAH3vf5",
        "outputId": "c2171da0-138d-48f8-eafe-5920ba41cd86"
      },
      "execution_count": null,
      "outputs": [
        {
          "output_type": "execute_result",
          "data": {
            "text/plain": [
              "['orange', 'milk', 'grape', 'bread', 'banana']"
            ]
          },
          "metadata": {},
          "execution_count": 138
        }
      ]
    },
    {
      "cell_type": "code",
      "source": [
        "## highlight how to use list\n",
        "item1 = [\"banana\", \"orange\"]\n",
        "item2 = item1.copy()\n",
        "\n",
        "item1[0] = \"longan\"\n",
        "\n",
        "print(item1, item2)"
      ],
      "metadata": {
        "colab": {
          "base_uri": "https://localhost:8080/"
        },
        "id": "b7-C9Zta4MC0",
        "outputId": "b8f83d40-528a-42b4-e658-42d3436bac8a"
      },
      "execution_count": null,
      "outputs": [
        {
          "output_type": "stream",
          "name": "stdout",
          "text": [
            "['longan', 'orange'] ['banana', 'orange']\n"
          ]
        }
      ]
    },
    {
      "cell_type": "code",
      "source": [
        "## 4.2 tuple() very similar to list\n",
        "# tuple is immutable\n",
        "# while, list is mutable\n",
        "friends = (\"toy\", \"john\", \"lisa\")   # can't update value na\n",
        "friends"
      ],
      "metadata": {
        "colab": {
          "base_uri": "https://localhost:8080/"
        },
        "id": "ss5zQeNL4wm_",
        "outputId": "e6253113-8ee5-4114-bbe0-8e3f4e52331e"
      },
      "execution_count": null,
      "outputs": [
        {
          "output_type": "execute_result",
          "data": {
            "text/plain": [
              "('toy', 'john', 'lisa')"
            ]
          },
          "metadata": {},
          "execution_count": 150
        }
      ]
    },
    {
      "cell_type": "code",
      "source": [
        "## 4.3 dictionary{key:value}\n",
        "def hi():\n",
        "    return \"hi!\"\n",
        "nina = {\n",
        "    \"fname\": \"Chanyaphas\",\n",
        "    \"lname\": \"Chaikongcha\",\n",
        "    \"age\": 21,\n",
        "    \"movie_lover\": True,\n",
        "    \"education\": \"Bachelor's degree\",\n",
        "    \"fave_movies\": [\"peaky blindsders\",\n",
        "                    \"Aquaman\",\n",
        "                    \"Zootopia\"],\n",
        "    \"function\": hi\n",
        "}"
      ],
      "metadata": {
        "id": "mLLYXFpd6PuF"
      },
      "execution_count": null,
      "outputs": []
    },
    {
      "cell_type": "code",
      "source": [
        "nina[\"fave_movies\"][0]"
      ],
      "metadata": {
        "colab": {
          "base_uri": "https://localhost:8080/",
          "height": 36
        },
        "id": "KSXtOVyo7luP",
        "outputId": "fd524e07-ed6e-4ae0-ecb6-ac95f79ac04f"
      },
      "execution_count": null,
      "outputs": [
        {
          "output_type": "execute_result",
          "data": {
            "text/plain": [
              "'peaky blindsders'"
            ],
            "application/vnd.google.colaboratory.intrinsic+json": {
              "type": "string"
            }
          },
          "metadata": {},
          "execution_count": 165
        }
      ]
    },
    {
      "cell_type": "code",
      "source": [
        "nina_func = nina[\"function\"]\n",
        "nina_func()"
      ],
      "metadata": {
        "colab": {
          "base_uri": "https://localhost:8080/",
          "height": 36
        },
        "id": "dgWDzZ4N8ZRZ",
        "outputId": "30a73b3c-c38d-408f-b48b-0dab169ec142"
      },
      "execution_count": null,
      "outputs": [
        {
          "output_type": "execute_result",
          "data": {
            "text/plain": [
              "'hi!'"
            ],
            "application/vnd.google.colaboratory.intrinsic+json": {
              "type": "string"
            }
          },
          "metadata": {},
          "execution_count": 167
        }
      ]
    },
    {
      "cell_type": "code",
      "source": [
        "# update value in dict , dict is mutable\n",
        "nina[\"fname\"]  = \"Chanyapas\"\n",
        "nina\n"
      ],
      "metadata": {
        "colab": {
          "base_uri": "https://localhost:8080/"
        },
        "id": "aj6YyMl989jH",
        "outputId": "c1b823ec-fc34-49df-8521-565af89090e5"
      },
      "execution_count": null,
      "outputs": [
        {
          "output_type": "execute_result",
          "data": {
            "text/plain": [
              "{'fname': 'Chanyapas',\n",
              " 'lname': 'Chaikongcha',\n",
              " 'age': 21,\n",
              " 'movie_lover': True,\n",
              " 'education': \"Bachelor's degree\",\n",
              " 'fave_movies': ['peaky blindsders', 'Aquaman', 'Zootopia'],\n",
              " 'function': <function __main__.hi()>}"
            ]
          },
          "metadata": {},
          "execution_count": 168
        }
      ]
    },
    {
      "cell_type": "code",
      "source": [
        "# delete key\n",
        "del nina[\"lname\"]\n",
        "nina"
      ],
      "metadata": {
        "colab": {
          "base_uri": "https://localhost:8080/"
        },
        "id": "fH8d-sds9Oac",
        "outputId": "2a972426-a36d-4424-8020-b4b1bb47b442"
      },
      "execution_count": null,
      "outputs": [
        {
          "output_type": "execute_result",
          "data": {
            "text/plain": [
              "{'fname': 'Chanyapas',\n",
              " 'age': 21,\n",
              " 'movie_lover': True,\n",
              " 'education': \"Bachelor's degree\",\n",
              " 'fave_movies': ['peaky blindsders', 'Aquaman', 'Zootopia'],\n",
              " 'function': <function __main__.hi()>}"
            ]
          },
          "metadata": {},
          "execution_count": 169
        }
      ]
    },
    {
      "cell_type": "code",
      "source": [
        "nina[\"lname\"] = \"Doe\"\n",
        "nina"
      ],
      "metadata": {
        "colab": {
          "base_uri": "https://localhost:8080/"
        },
        "id": "CTW_Ji_e9ZCV",
        "outputId": "c02b2cee-a08b-40b7-9814-e73c174f9ef4"
      },
      "execution_count": null,
      "outputs": [
        {
          "output_type": "execute_result",
          "data": {
            "text/plain": [
              "{'fname': 'Chanyapas',\n",
              " 'age': 21,\n",
              " 'movie_lover': True,\n",
              " 'education': \"Bachelor's degree\",\n",
              " 'fave_movies': ['peaky blindsders', 'Aquaman', 'Zootopia'],\n",
              " 'function': <function __main__.hi()>,\n",
              " 'lname': 'Doe'}"
            ]
          },
          "metadata": {},
          "execution_count": 170
        }
      ]
    },
    {
      "cell_type": "code",
      "source": [
        "# get method\n",
        "nina.get(\"hello world\")\n",
        "\n",
        "nina[\"age\"]\n",
        "nina[\"university\"] = \"chiangmai\"\n",
        "nina"
      ],
      "metadata": {
        "colab": {
          "base_uri": "https://localhost:8080/"
        },
        "id": "4JR640qt98zF",
        "outputId": "b44c50e9-75e5-44dd-d2fa-bddaefeabf3e"
      },
      "execution_count": null,
      "outputs": [
        {
          "output_type": "execute_result",
          "data": {
            "text/plain": [
              "{'fname': 'Chanyapas',\n",
              " 'age': 21,\n",
              " 'movie_lover': True,\n",
              " 'education': \"Bachelor's degree\",\n",
              " 'fave_movies': ['peaky blindsders', 'Aquaman', 'Zootopia'],\n",
              " 'function': <function __main__.hi()>,\n",
              " 'lname': 'Doe',\n",
              " 'university': 'chiangmai'}"
            ]
          },
          "metadata": {},
          "execution_count": 173
        }
      ]
    },
    {
      "cell_type": "markdown",
      "source": [
        "? mutable => list, dictionary\n",
        "\n",
        "? immutable => tuple"
      ],
      "metadata": {
        "id": "q-OKZW7E-doT"
      }
    },
    {
      "cell_type": "code",
      "source": [
        "## 4.4 set {unique set}\n",
        "fruits = {\"apple\", \"orange\", \"banana\", \"banana\"}\n",
        "\n",
        "print(fruits, type(fruits))  # don't show duplicate value\n"
      ],
      "metadata": {
        "colab": {
          "base_uri": "https://localhost:8080/"
        },
        "id": "EaJ22QtN84pk",
        "outputId": "ec1d3bc2-ab14-4acf-9356-08f3c2a3b927"
      },
      "execution_count": null,
      "outputs": [
        {
          "output_type": "stream",
          "name": "stdout",
          "text": [
            "{'orange', 'banana', 'apple'} <class 'set'>\n"
          ]
        }
      ]
    },
    {
      "cell_type": "code",
      "source": [
        "# convert list to set\n",
        "fruits = [\"apple\", \"orange\", \"banana\", \"banana\"]\n",
        "unique_set_fruits = set(fruits)\n",
        "unique_set_fruits\n"
      ],
      "metadata": {
        "colab": {
          "base_uri": "https://localhost:8080/"
        },
        "id": "hDRSANju-6il",
        "outputId": "923c8472-b07f-4bdc-a4c0-657bacd86da1"
      },
      "execution_count": null,
      "outputs": [
        {
          "output_type": "execute_result",
          "data": {
            "text/plain": [
              "{'apple', 'banana', 'orange'}"
            ]
          },
          "metadata": {},
          "execution_count": 177
        }
      ]
    },
    {
      "cell_type": "markdown",
      "source": [
        "# Essential Python"
      ],
      "metadata": {
        "id": "V17FQZqb_YwV"
      }
    },
    {
      "cell_type": "code",
      "source": [],
      "metadata": {
        "id": "NSY2SPcO_qP8"
      },
      "execution_count": null,
      "outputs": []
    }
  ]
}